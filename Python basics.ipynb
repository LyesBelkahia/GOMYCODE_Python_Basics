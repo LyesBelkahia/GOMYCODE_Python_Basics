{
 "cells": [
  {
   "cell_type": "code",
   "execution_count": 11,
   "id": "3906219e",
   "metadata": {},
   "outputs": [
    {
     "name": "stdout",
     "output_type": "stream",
     "text": [
      "First name : Lyes\n",
      "Last name : Belkahia\n",
      "Belkahia Lyes\n"
     ]
    }
   ],
   "source": [
    "your_first_name = input(\"First name : \")\n",
    "your_last_name = input(\"Last name : \")\n",
    "print(your_last_name,your_first_name)"
   ]
  },
  {
   "cell_type": "code",
   "execution_count": 2,
   "id": "f28b8ce4",
   "metadata": {},
   "outputs": [
    {
     "name": "stdout",
     "output_type": "stream",
     "text": [
      "n value : 2\n",
      "2 + 22 + 222 = 246\n"
     ]
    }
   ],
   "source": [
    "n = input(\"n value : \")\n",
    "a = n+n\n",
    "b = n+n+n\n",
    "n=int(n)\n",
    "a=int(a)\n",
    "b=int(b)\n",
    "print(n,\"+\",a,\"+\",b,\"=\",n+a+b)"
   ]
  },
  {
   "cell_type": "code",
   "execution_count": 3,
   "id": "4d64381e",
   "metadata": {},
   "outputs": [
    {
     "name": "stdout",
     "output_type": "stream",
     "text": [
      "choose a number25\n",
      "25 is odd\n"
     ]
    }
   ],
   "source": [
    "x=int(input(\"choose a number\"))\n",
    "if x%2 == 0:\n",
    "    print(x,\"is even\")\n",
    "else:\n",
    "    print(x,\"is odd\")"
   ]
  },
  {
   "cell_type": "code",
   "execution_count": 4,
   "id": "406e8573",
   "metadata": {},
   "outputs": [
    {
     "name": "stdout",
     "output_type": "stream",
     "text": [
      "2016\n",
      "2051\n",
      "2086\n",
      "2121\n",
      "2156\n",
      "2191\n",
      "2226\n",
      "2261\n",
      "2296\n",
      "2331\n",
      "2366\n",
      "2401\n",
      "2436\n",
      "2471\n",
      "2506\n",
      "2541\n",
      "2576\n",
      "2611\n",
      "2646\n",
      "2681\n",
      "2716\n",
      "2751\n",
      "2786\n",
      "2821\n",
      "2856\n",
      "2891\n",
      "2926\n",
      "2961\n",
      "2996\n",
      "3031\n",
      "3066\n",
      "3101\n",
      "3136\n",
      "3171\n"
     ]
    }
   ],
   "source": [
    "a=2000\n",
    "while a<=3200:\n",
    "    x=a%7\n",
    "    y=a%5\n",
    "    if x==0 and y==1:\n",
    "        print(a)\n",
    "        \n",
    "    a=a+1"
   ]
  },
  {
   "cell_type": "code",
   "execution_count": 5,
   "id": "64f6f1c9",
   "metadata": {},
   "outputs": [
    {
     "name": "stdout",
     "output_type": "stream",
     "text": [
      "choose a number :4\n",
      "the factorial of 4 is 24\n"
     ]
    }
   ],
   "source": [
    "x=int(input(\"choose a number :\"))\n",
    "factorial=1\n",
    "for a in range(1,x+1):\n",
    "    factorial=factorial*a\n",
    "print(\"the factorial of\",x,\"is\",factorial)\n",
    "\n",
    "    "
   ]
  },
  {
   "cell_type": "code",
   "execution_count": 9,
   "id": "bace3d35",
   "metadata": {},
   "outputs": [
    {
     "name": "stdout",
     "output_type": "stream",
     "text": [
      "hello Team\n",
      "hloTa\n"
     ]
    }
   ],
   "source": [
    "x=input()\n",
    "c=\"\"\n",
    "for i in range(len(x)):\n",
    "    if i%2==0:\n",
    "        c=str(c+x[i])\n",
    "print(c)"
   ]
  },
  {
   "cell_type": "code",
   "execution_count": 10,
   "id": "5d65a0eb",
   "metadata": {},
   "outputs": [
    {
     "name": "stdout",
     "output_type": "stream",
     "text": [
      "The price : 230\n",
      "The price is 230 but you have a 30% discount, the new price is 161.0\n"
     ]
    }
   ],
   "source": [
    "x=int(input(\"The price : \"))\n",
    "if x>=500:\n",
    "    b=x*50/100\n",
    "    c=x-b\n",
    "    print(\"The price is\",x,\"but you have a 50% discount, the new price is\",c)\n",
    "elif 200<=x<500:\n",
    "    b=x*30/100\n",
    "    c=x-b\n",
    "    print(\"The price is\",x,\"but you have a 30% discount, the new price is\",c)\n",
    "elif x<200:\n",
    "    b=x*10/100\n",
    "    c=x-b\n",
    "    print(\"The price is\",x,\"but you have a 10% discount, the new price is\",c)"
   ]
  }
 ],
 "metadata": {
  "kernelspec": {
   "display_name": "Python 3 (ipykernel)",
   "language": "python",
   "name": "python3"
  },
  "language_info": {
   "codemirror_mode": {
    "name": "ipython",
    "version": 3
   },
   "file_extension": ".py",
   "mimetype": "text/x-python",
   "name": "python",
   "nbconvert_exporter": "python",
   "pygments_lexer": "ipython3",
   "version": "3.9.7"
  }
 },
 "nbformat": 4,
 "nbformat_minor": 5
}
